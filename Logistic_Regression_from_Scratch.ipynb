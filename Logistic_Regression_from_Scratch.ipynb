{
  "nbformat": 4,
  "nbformat_minor": 0,
  "metadata": {
    "colab": {
      "provenance": [],
      "include_colab_link": true
    },
    "kernelspec": {
      "name": "python3",
      "display_name": "Python 3"
    },
    "language_info": {
      "name": "python"
    }
  },
  "cells": [
    {
      "cell_type": "markdown",
      "metadata": {
        "id": "view-in-github",
        "colab_type": "text"
      },
      "source": [
        "<a href=\"https://colab.research.google.com/github/LiamMerrill/Logistic_Regression/blob/main/Logistic_Regression_from_Scratch.ipynb\" target=\"_parent\"><img src=\"https://colab.research.google.com/assets/colab-badge.svg\" alt=\"Open In Colab\"/></a>"
      ]
    },
    {
      "cell_type": "markdown",
      "source": [
        "Logistic Regression"
      ],
      "metadata": {
        "id": "4PK4z5ewBOFV"
      }
    },
    {
      "cell_type": "markdown",
      "source": [
        "##Load and Inspect Data"
      ],
      "metadata": {
        "id": "INkbJGNGBTAs"
      }
    },
    {
      "cell_type": "markdown",
      "source": [
        "Data is collected from uci.edu's [website](https://archive.ics.uci.edu/ml/datasets/banknote+authentication#). \n",
        "\n",
        "Data Set Information:\n",
        "\n",
        "\"Data were extracted from images that were taken from genuine and forged banknote-like specimens. For digitization, an industrial camera usually used for print inspection was used. The final images have 400x 400 pixels. Due to the object lens and distance to the investigated object gray-scale pictures with a resolution of about 660 dpi were gained. Wavelet Transform tool were used to extract features from images.\"\n",
        "\n",
        "These are the features included in the dataset: \n",
        "\n",
        "1. variance of Wavelet Transformed image (continuous)\n",
        "2. skewness of Wavelet Transformed image (continuous)\n",
        "3. curtosis of Wavelet Transformed image (continuous)\n",
        "4. entropy of image (continuous)\n",
        "5. class (integer)\n",
        "\n"
      ],
      "metadata": {
        "id": "7A_I9NEU4YiY"
      }
    },
    {
      "cell_type": "code",
      "execution_count": null,
      "metadata": {
        "colab": {
          "base_uri": "https://localhost:8080/"
        },
        "id": "4o1Gyqw-z8gn",
        "outputId": "50801783-bb50-41d9-b614-149e8bcd57c0"
      },
      "outputs": [
        {
          "output_type": "stream",
          "name": "stdout",
          "text": [
            "--2022-11-13 23:39:15--  https://archive.ics.uci.edu/ml/machine-learning-databases/00267/data_banknote_authentication.txt\n",
            "Resolving archive.ics.uci.edu (archive.ics.uci.edu)... 128.195.10.252\n",
            "Connecting to archive.ics.uci.edu (archive.ics.uci.edu)|128.195.10.252|:443... connected.\n",
            "HTTP request sent, awaiting response... 200 OK\n",
            "Length: 46400 (45K) [application/x-httpd-php]\n",
            "Saving to: ‘data_banknote_authentication.txt’\n",
            "\n",
            "\r          data_bank   0%[                    ]       0  --.-KB/s               \rdata_banknote_authe 100%[===================>]  45.31K  --.-KB/s    in 0.02s   \n",
            "\n",
            "2022-11-13 23:39:15 (2.25 MB/s) - ‘data_banknote_authentication.txt’ saved [46400/46400]\n",
            "\n"
          ]
        }
      ],
      "source": [
        "!wget https://archive.ics.uci.edu/ml/machine-learning-databases/00267/data_banknote_authentication.txt"
      ]
    },
    {
      "cell_type": "code",
      "source": [
        "import pandas as pd\n",
        "data = pd.read_csv('data_banknote_authentication.txt', sep = ',', header=None, \n",
        "                   names=[\"Variance\", \"Skewness\", \"Curtosis\", \"Entropy\", \"Class\"])\n",
        "data.head()"
      ],
      "metadata": {
        "colab": {
          "base_uri": "https://localhost:8080/",
          "height": 206
        },
        "id": "QpBckIOr3euJ",
        "outputId": "1b6e64fd-c09a-4909-ed94-8423252622ee"
      },
      "execution_count": null,
      "outputs": [
        {
          "output_type": "execute_result",
          "data": {
            "text/plain": [
              "   Variance  Skewness  Curtosis  Entropy  Class\n",
              "0   3.62160    8.6661   -2.8073 -0.44699      0\n",
              "1   4.54590    8.1674   -2.4586 -1.46210      0\n",
              "2   3.86600   -2.6383    1.9242  0.10645      0\n",
              "3   3.45660    9.5228   -4.0112 -3.59440      0\n",
              "4   0.32924   -4.4552    4.5718 -0.98880      0"
            ],
            "text/html": [
              "\n",
              "  <div id=\"df-153b1c9c-9cb6-4628-9751-1b280a6e669c\">\n",
              "    <div class=\"colab-df-container\">\n",
              "      <div>\n",
              "<style scoped>\n",
              "    .dataframe tbody tr th:only-of-type {\n",
              "        vertical-align: middle;\n",
              "    }\n",
              "\n",
              "    .dataframe tbody tr th {\n",
              "        vertical-align: top;\n",
              "    }\n",
              "\n",
              "    .dataframe thead th {\n",
              "        text-align: right;\n",
              "    }\n",
              "</style>\n",
              "<table border=\"1\" class=\"dataframe\">\n",
              "  <thead>\n",
              "    <tr style=\"text-align: right;\">\n",
              "      <th></th>\n",
              "      <th>Variance</th>\n",
              "      <th>Skewness</th>\n",
              "      <th>Curtosis</th>\n",
              "      <th>Entropy</th>\n",
              "      <th>Class</th>\n",
              "    </tr>\n",
              "  </thead>\n",
              "  <tbody>\n",
              "    <tr>\n",
              "      <th>0</th>\n",
              "      <td>3.62160</td>\n",
              "      <td>8.6661</td>\n",
              "      <td>-2.8073</td>\n",
              "      <td>-0.44699</td>\n",
              "      <td>0</td>\n",
              "    </tr>\n",
              "    <tr>\n",
              "      <th>1</th>\n",
              "      <td>4.54590</td>\n",
              "      <td>8.1674</td>\n",
              "      <td>-2.4586</td>\n",
              "      <td>-1.46210</td>\n",
              "      <td>0</td>\n",
              "    </tr>\n",
              "    <tr>\n",
              "      <th>2</th>\n",
              "      <td>3.86600</td>\n",
              "      <td>-2.6383</td>\n",
              "      <td>1.9242</td>\n",
              "      <td>0.10645</td>\n",
              "      <td>0</td>\n",
              "    </tr>\n",
              "    <tr>\n",
              "      <th>3</th>\n",
              "      <td>3.45660</td>\n",
              "      <td>9.5228</td>\n",
              "      <td>-4.0112</td>\n",
              "      <td>-3.59440</td>\n",
              "      <td>0</td>\n",
              "    </tr>\n",
              "    <tr>\n",
              "      <th>4</th>\n",
              "      <td>0.32924</td>\n",
              "      <td>-4.4552</td>\n",
              "      <td>4.5718</td>\n",
              "      <td>-0.98880</td>\n",
              "      <td>0</td>\n",
              "    </tr>\n",
              "  </tbody>\n",
              "</table>\n",
              "</div>\n",
              "      <button class=\"colab-df-convert\" onclick=\"convertToInteractive('df-153b1c9c-9cb6-4628-9751-1b280a6e669c')\"\n",
              "              title=\"Convert this dataframe to an interactive table.\"\n",
              "              style=\"display:none;\">\n",
              "        \n",
              "  <svg xmlns=\"http://www.w3.org/2000/svg\" height=\"24px\"viewBox=\"0 0 24 24\"\n",
              "       width=\"24px\">\n",
              "    <path d=\"M0 0h24v24H0V0z\" fill=\"none\"/>\n",
              "    <path d=\"M18.56 5.44l.94 2.06.94-2.06 2.06-.94-2.06-.94-.94-2.06-.94 2.06-2.06.94zm-11 1L8.5 8.5l.94-2.06 2.06-.94-2.06-.94L8.5 2.5l-.94 2.06-2.06.94zm10 10l.94 2.06.94-2.06 2.06-.94-2.06-.94-.94-2.06-.94 2.06-2.06.94z\"/><path d=\"M17.41 7.96l-1.37-1.37c-.4-.4-.92-.59-1.43-.59-.52 0-1.04.2-1.43.59L10.3 9.45l-7.72 7.72c-.78.78-.78 2.05 0 2.83L4 21.41c.39.39.9.59 1.41.59.51 0 1.02-.2 1.41-.59l7.78-7.78 2.81-2.81c.8-.78.8-2.07 0-2.86zM5.41 20L4 18.59l7.72-7.72 1.47 1.35L5.41 20z\"/>\n",
              "  </svg>\n",
              "      </button>\n",
              "      \n",
              "  <style>\n",
              "    .colab-df-container {\n",
              "      display:flex;\n",
              "      flex-wrap:wrap;\n",
              "      gap: 12px;\n",
              "    }\n",
              "\n",
              "    .colab-df-convert {\n",
              "      background-color: #E8F0FE;\n",
              "      border: none;\n",
              "      border-radius: 50%;\n",
              "      cursor: pointer;\n",
              "      display: none;\n",
              "      fill: #1967D2;\n",
              "      height: 32px;\n",
              "      padding: 0 0 0 0;\n",
              "      width: 32px;\n",
              "    }\n",
              "\n",
              "    .colab-df-convert:hover {\n",
              "      background-color: #E2EBFA;\n",
              "      box-shadow: 0px 1px 2px rgba(60, 64, 67, 0.3), 0px 1px 3px 1px rgba(60, 64, 67, 0.15);\n",
              "      fill: #174EA6;\n",
              "    }\n",
              "\n",
              "    [theme=dark] .colab-df-convert {\n",
              "      background-color: #3B4455;\n",
              "      fill: #D2E3FC;\n",
              "    }\n",
              "\n",
              "    [theme=dark] .colab-df-convert:hover {\n",
              "      background-color: #434B5C;\n",
              "      box-shadow: 0px 1px 3px 1px rgba(0, 0, 0, 0.15);\n",
              "      filter: drop-shadow(0px 1px 2px rgba(0, 0, 0, 0.3));\n",
              "      fill: #FFFFFF;\n",
              "    }\n",
              "  </style>\n",
              "\n",
              "      <script>\n",
              "        const buttonEl =\n",
              "          document.querySelector('#df-153b1c9c-9cb6-4628-9751-1b280a6e669c button.colab-df-convert');\n",
              "        buttonEl.style.display =\n",
              "          google.colab.kernel.accessAllowed ? 'block' : 'none';\n",
              "\n",
              "        async function convertToInteractive(key) {\n",
              "          const element = document.querySelector('#df-153b1c9c-9cb6-4628-9751-1b280a6e669c');\n",
              "          const dataTable =\n",
              "            await google.colab.kernel.invokeFunction('convertToInteractive',\n",
              "                                                     [key], {});\n",
              "          if (!dataTable) return;\n",
              "\n",
              "          const docLinkHtml = 'Like what you see? Visit the ' +\n",
              "            '<a target=\"_blank\" href=https://colab.research.google.com/notebooks/data_table.ipynb>data table notebook</a>'\n",
              "            + ' to learn more about interactive tables.';\n",
              "          element.innerHTML = '';\n",
              "          dataTable['output_type'] = 'display_data';\n",
              "          await google.colab.output.renderOutput(dataTable, element);\n",
              "          const docLink = document.createElement('div');\n",
              "          docLink.innerHTML = docLinkHtml;\n",
              "          element.appendChild(docLink);\n",
              "        }\n",
              "      </script>\n",
              "    </div>\n",
              "  </div>\n",
              "  "
            ]
          },
          "metadata": {},
          "execution_count": 4
        }
      ]
    },
    {
      "cell_type": "markdown",
      "source": [
        "Classes aren't currently shuffled."
      ],
      "metadata": {
        "id": "VJ-UjAfaTDsv"
      }
    },
    {
      "cell_type": "code",
      "source": [
        "#How many entries do we have?\n",
        "print(data.shape[0])"
      ],
      "metadata": {
        "colab": {
          "base_uri": "https://localhost:8080/"
        },
        "id": "Imx1-jjCFqrg",
        "outputId": "277a83da-7884-4616-90ab-e6797dfe8a48"
      },
      "execution_count": null,
      "outputs": [
        {
          "output_type": "stream",
          "name": "stdout",
          "text": [
            "1372\n"
          ]
        }
      ]
    },
    {
      "cell_type": "code",
      "source": [
        "#What are class labels? Are they balanced?\n",
        "import matplotlib.pyplot as plt\n",
        "plt.hist(data['Class'])\n",
        "plt.show()"
      ],
      "metadata": {
        "colab": {
          "base_uri": "https://localhost:8080/",
          "height": 269
        },
        "id": "biiKFh-138KL",
        "outputId": "b4639fb3-a0fd-414d-8806-5912820177ec"
      },
      "execution_count": null,
      "outputs": [
        {
          "output_type": "display_data",
          "data": {
            "text/plain": [
              "<Figure size 432x288 with 1 Axes>"
            ],
            "image/png": "[encoded data removed]"
          },
          "metadata": {
            "needs_background": "light"
          }
        }
      ]
    },
    {
      "cell_type": "markdown",
      "source": [
        "Data is slightly skewed but not significantly."
      ],
      "metadata": {
        "id": "1WAXjQFZTMNo"
      }
    },
    {
      "cell_type": "markdown",
      "source": [
        "##Data Preparation"
      ],
      "metadata": {
        "id": "dTnurORdGL2N"
      }
    },
    {
      "cell_type": "markdown",
      "source": [
        "We need to split the dataset into training and testing data. Split the dataset into training (80%) and testing data (20%).\n"
      ],
      "metadata": {
        "id": "48PY32elH_4s"
      }
    },
    {
      "cell_type": "markdown",
      "source": [
        "First I will shuffle the data because it looks like Class is not suffled."
      ],
      "metadata": {
        "id": "-jSxA4-4nqzw"
      }
    },
    {
      "cell_type": "code",
      "source": [
        "data = data.sample(frac = 1)"
      ],
      "metadata": {
        "id": "hFtOto7ukUQL"
      },
      "execution_count": null,
      "outputs": []
    },
    {
      "cell_type": "markdown",
      "source": [
        "Splitting the data into 80 percent training and 20 percent testing. I'm doing this using the loc method, grabbing four features in the X variable and Class in the y variable."
      ],
      "metadata": {
        "id": "QFqmequdn1-M"
      }
    },
    {
      "cell_type": "code",
      "source": [
        "#put your code here\n",
        "from sklearn.model_selection import train_test_split\n",
        "columns = [\"Variance\", \"Skewness\", \"Curtosis\", \"Entropy\", \"Class\"]\n",
        "data = data.loc[:, columns]\n",
        "features = [\"Variance\", \"Skewness\", \"Curtosis\", \"Entropy\"]\n",
        "X = data.loc[:, features]\n",
        "X['Bias'] = 1\n",
        "y = data.loc[:, ['Class']]\n",
        "#train and test are training and testing data\n",
        "X_train, X_test, y_train, y_test = train_test_split(X, y, random_state=10, train_size = .8)"
      ],
      "metadata": {
        "id": "lY7Jjxf7Cgez"
      },
      "execution_count": null,
      "outputs": []
    },
    {
      "cell_type": "code",
      "source": [
        "y.head(10)"
      ],
      "metadata": {
        "colab": {
          "base_uri": "https://localhost:8080/",
          "height": 363
        },
        "id": "L97BWOzNKF07",
        "outputId": "fa6f26d8-55b5-4b67-d2f5-accff9500ab4"
      },
      "execution_count": null,
      "outputs": [
        {
          "output_type": "execute_result",
          "data": {
            "text/plain": [
              "      Class\n",
              "184       0\n",
              "1129      1\n",
              "576       0\n",
              "572       0\n",
              "381       0\n",
              "1355      1\n",
              "196       0\n",
              "1335      1\n",
              "1206      1\n",
              "1269      1"
            ],
            "text/html": [
              "\n",
              "  <div id=\"df-4c02413d-7842-4e39-b417-958c23754d23\">\n",
              "    <div class=\"colab-df-container\">\n",
              "      <div>\n",
              "<style scoped>\n",
              "    .dataframe tbody tr th:only-of-type {\n",
              "        vertical-align: middle;\n",
              "    }\n",
              "\n",
              "    .dataframe tbody tr th {\n",
              "        vertical-align: top;\n",
              "    }\n",
              "\n",
              "    .dataframe thead th {\n",
              "        text-align: right;\n",
              "    }\n",
              "</style>\n",
              "<table border=\"1\" class=\"dataframe\">\n",
              "  <thead>\n",
              "    <tr style=\"text-align: right;\">\n",
              "      <th></th>\n",
              "      <th>Class</th>\n",
              "    </tr>\n",
              "  </thead>\n",
              "  <tbody>\n",
              "    <tr>\n",
              "      <th>184</th>\n",
              "      <td>0</td>\n",
              "    </tr>\n",
              "    <tr>\n",
              "      <th>1129</th>\n",
              "      <td>1</td>\n",
              "    </tr>\n",
              "    <tr>\n",
              "      <th>576</th>\n",
              "      <td>0</td>\n",
              "    </tr>\n",
              "    <tr>\n",
              "      <th>572</th>\n",
              "      <td>0</td>\n",
              "    </tr>\n",
              "    <tr>\n",
              "      <th>381</th>\n",
              "      <td>0</td>\n",
              "    </tr>\n",
              "    <tr>\n",
              "      <th>1355</th>\n",
              "      <td>1</td>\n",
              "    </tr>\n",
              "    <tr>\n",
              "      <th>196</th>\n",
              "      <td>0</td>\n",
              "    </tr>\n",
              "    <tr>\n",
              "      <th>1335</th>\n",
              "      <td>1</td>\n",
              "    </tr>\n",
              "    <tr>\n",
              "      <th>1206</th>\n",
              "      <td>1</td>\n",
              "    </tr>\n",
              "    <tr>\n",
              "      <th>1269</th>\n",
              "      <td>1</td>\n",
              "    </tr>\n",
              "  </tbody>\n",
              "</table>\n",
              "</div>\n",
              "      <button class=\"colab-df-convert\" onclick=\"convertToInteractive('df-4c02413d-7842-4e39-b417-958c23754d23')\"\n",
              "              title=\"Convert this dataframe to an interactive table.\"\n",
              "              style=\"display:none;\">\n",
              "        \n",
              "  <svg xmlns=\"http://www.w3.org/2000/svg\" height=\"24px\"viewBox=\"0 0 24 24\"\n",
              "       width=\"24px\">\n",
              "    <path d=\"M0 0h24v24H0V0z\" fill=\"none\"/>\n",
              "    <path d=\"M18.56 5.44l.94 2.06.94-2.06 2.06-.94-2.06-.94-.94-2.06-.94 2.06-2.06.94zm-11 1L8.5 8.5l.94-2.06 2.06-.94-2.06-.94L8.5 2.5l-.94 2.06-2.06.94zm10 10l.94 2.06.94-2.06 2.06-.94-2.06-.94-.94-2.06-.94 2.06-2.06.94z\"/><path d=\"M17.41 7.96l-1.37-1.37c-.4-.4-.92-.59-1.43-.59-.52 0-1.04.2-1.43.59L10.3 9.45l-7.72 7.72c-.78.78-.78 2.05 0 2.83L4 21.41c.39.39.9.59 1.41.59.51 0 1.02-.2 1.41-.59l7.78-7.78 2.81-2.81c.8-.78.8-2.07 0-2.86zM5.41 20L4 18.59l7.72-7.72 1.47 1.35L5.41 20z\"/>\n",
              "  </svg>\n",
              "      </button>\n",
              "      \n",
              "  <style>\n",
              "    .colab-df-container {\n",
              "      display:flex;\n",
              "      flex-wrap:wrap;\n",
              "      gap: 12px;\n",
              "    }\n",
              "\n",
              "    .colab-df-convert {\n",
              "      background-color: #E8F0FE;\n",
              "      border: none;\n",
              "      border-radius: 50%;\n",
              "      cursor: pointer;\n",
              "      display: none;\n",
              "      fill: #1967D2;\n",
              "      height: 32px;\n",
              "      padding: 0 0 0 0;\n",
              "      width: 32px;\n",
              "    }\n",
              "\n",
              "    .colab-df-convert:hover {\n",
              "      background-color: #E2EBFA;\n",
              "      box-shadow: 0px 1px 2px rgba(60, 64, 67, 0.3), 0px 1px 3px 1px rgba(60, 64, 67, 0.15);\n",
              "      fill: #174EA6;\n",
              "    }\n",
              "\n",
              "    [theme=dark] .colab-df-convert {\n",
              "      background-color: #3B4455;\n",
              "      fill: #D2E3FC;\n",
              "    }\n",
              "\n",
              "    [theme=dark] .colab-df-convert:hover {\n",
              "      background-color: #434B5C;\n",
              "      box-shadow: 0px 1px 3px 1px rgba(0, 0, 0, 0.15);\n",
              "      filter: drop-shadow(0px 1px 2px rgba(0, 0, 0, 0.3));\n",
              "      fill: #FFFFFF;\n",
              "    }\n",
              "  </style>\n",
              "\n",
              "      <script>\n",
              "        const buttonEl =\n",
              "          document.querySelector('#df-4c02413d-7842-4e39-b417-958c23754d23 button.colab-df-convert');\n",
              "        buttonEl.style.display =\n",
              "          google.colab.kernel.accessAllowed ? 'block' : 'none';\n",
              "\n",
              "        async function convertToInteractive(key) {\n",
              "          const element = document.querySelector('#df-4c02413d-7842-4e39-b417-958c23754d23');\n",
              "          const dataTable =\n",
              "            await google.colab.kernel.invokeFunction('convertToInteractive',\n",
              "                                                     [key], {});\n",
              "          if (!dataTable) return;\n",
              "\n",
              "          const docLinkHtml = 'Like what you see? Visit the ' +\n",
              "            '<a target=\"_blank\" href=https://colab.research.google.com/notebooks/data_table.ipynb>data table notebook</a>'\n",
              "            + ' to learn more about interactive tables.';\n",
              "          element.innerHTML = '';\n",
              "          dataTable['output_type'] = 'display_data';\n",
              "          await google.colab.output.renderOutput(dataTable, element);\n",
              "          const docLink = document.createElement('div');\n",
              "          docLink.innerHTML = docLinkHtml;\n",
              "          element.appendChild(docLink);\n",
              "        }\n",
              "      </script>\n",
              "    </div>\n",
              "  </div>\n",
              "  "
            ]
          },
          "metadata": {},
          "execution_count": 9
        }
      ]
    },
    {
      "cell_type": "markdown",
      "source": [
        "Now the data has been shuffled. Checking the size of the train and test size."
      ],
      "metadata": {
        "id": "Aaa_mUTTTVKq"
      }
    },
    {
      "cell_type": "code",
      "source": [
        "print('Train Size: ', X_train.shape[0])\n",
        "print('Test Size: ', X_test.shape[0])"
      ],
      "metadata": {
        "colab": {
          "base_uri": "https://localhost:8080/"
        },
        "id": "p94HgqDlJIc4",
        "outputId": "2562a932-896b-4f70-f201-4258f06a4474"
      },
      "execution_count": null,
      "outputs": [
        {
          "output_type": "stream",
          "name": "stdout",
          "text": [
            "Train Size:  1097\n",
            "Test Size:  275\n"
          ]
        }
      ]
    },
    {
      "cell_type": "markdown",
      "source": [
        "##Logistic regression"
      ],
      "metadata": {
        "id": "EIRGGRT4J5Rf"
      }
    },
    {
      "cell_type": "markdown",
      "source": [
        "Logistic regression outputs values from zero to one, which we think of as probabilities. Logistic regression is a sigmoid function acting on a linear regression."
      ],
      "metadata": {
        "id": "x5yEFmcy_WVN"
      }
    },
    {
      "cell_type": "code",
      "source": [
        "import numpy as np\n",
        "import pandas as pd"
      ],
      "metadata": {
        "id": "Ltq4adJnxbJB"
      },
      "execution_count": null,
      "outputs": []
    },
    {
      "cell_type": "markdown",
      "source": [
        "When z is negative, sigmoid is close to zero. When z is positive number, sigmoid is close to 1. "
      ],
      "metadata": {
        "id": "3f2jg-J6x3S9"
      }
    },
    {
      "cell_type": "code",
      "source": [
        "def sigmoid(z):\n",
        "  return np.exp(z)/(1 + np.exp(z))"
      ],
      "metadata": {
        "id": "RQyUhP9JVfmy"
      },
      "execution_count": null,
      "outputs": []
    },
    {
      "cell_type": "code",
      "source": [
        "print(sigmoid(-5))\n",
        "print(sigmoid(5))"
      ],
      "metadata": {
        "colab": {
          "base_uri": "https://localhost:8080/"
        },
        "id": "S15uDYNZopTD",
        "outputId": "d9cb59c2-0b2c-4e2e-d749-92ddfe6fc910"
      },
      "execution_count": null,
      "outputs": [
        {
          "output_type": "stream",
          "name": "stdout",
          "text": [
            "0.006692850924284856\n",
            "0.9933071490757152\n"
          ]
        }
      ]
    },
    {
      "cell_type": "markdown",
      "source": [
        "Now I'm going to impute X into m and n, which makes m the number of rows and n the number of columns.  "
      ],
      "metadata": {
        "id": "k-OtUEHdpZd9"
      }
    },
    {
      "cell_type": "code",
      "source": [
        "m, n = X.shape"
      ],
      "metadata": {
        "id": "UW0XH7usUEV9"
      },
      "execution_count": null,
      "outputs": []
    },
    {
      "cell_type": "code",
      "source": [
        "n"
      ],
      "metadata": {
        "colab": {
          "base_uri": "https://localhost:8080/"
        },
        "id": "DQKtLwY8pphM",
        "outputId": "92663b5b-574c-49cc-b919-d75aa6726b2b"
      },
      "execution_count": null,
      "outputs": [
        {
          "output_type": "execute_result",
          "data": {
            "text/plain": [
              "5"
            ]
          },
          "metadata": {},
          "execution_count": 15
        }
      ]
    },
    {
      "cell_type": "markdown",
      "source": [
        "Now I will create a new column and populate it with ones, this will serve as the weights."
      ],
      "metadata": {
        "id": "30GBzkOFp38e"
      }
    },
    {
      "cell_type": "code",
      "source": [
        "w = np.ones((n,1))"
      ],
      "metadata": {
        "id": "3ArLMlwP-H_u"
      },
      "execution_count": null,
      "outputs": []
    },
    {
      "cell_type": "markdown",
      "source": [
        "The logistic regression function takes two arguments, the weights and the data. y_hat, which is our hypothesis, is equal to the dot product of the weights and the data, run through the sigmoid function. The log_res function returns the hypothesis. "
      ],
      "metadata": {
        "id": "U1NW9iHdqDo9"
      }
    },
    {
      "cell_type": "code",
      "source": [
        "def log_res(w, X):\n",
        "  y_hat = sigmoid(np.dot(w.T, X.T))\n",
        "  return y_hat"
      ],
      "metadata": {
        "id": "yUt-lf_jP_k2"
      },
      "execution_count": null,
      "outputs": []
    },
    {
      "cell_type": "code",
      "source": [
        "log_res(w, X_train)"
      ],
      "metadata": {
        "colab": {
          "base_uri": "https://localhost:8080/"
        },
        "id": "2XfCvZqNQHTW",
        "outputId": "41e88385-789b-4dcb-9176-88f9f2f654b5"
      },
      "execution_count": null,
      "outputs": [
        {
          "output_type": "execute_result",
          "data": {
            "text/plain": [
              "array([[0.9966072 , 0.03871886, 0.99903075, ..., 0.2199479 , 0.37749367,\n",
              "        0.4182669 ]])"
            ]
          },
          "metadata": {},
          "execution_count": 38
        }
      ]
    },
    {
      "cell_type": "markdown",
      "source": [
        "Now we introduce the maximum likelihood loss function. This takes three arguments, the data, the target and the weights. We first impute the target to m, n. Then define y_n so that y is either -1 or 1. Then we define linear_term to equal the dot product of the weights and the data. Then we define exponent_arg to be equal to -y_n times linear term. Then we take the log of 1 + e to the exponent_arg. Finally, loss is equal to all of that over n. We return loss."
      ],
      "metadata": {
        "id": "nyDE4COfzIpx"
      }
    },
    {
      "cell_type": "code",
      "source": [
        "def ml_loss(X, y, w):\n",
        "  \"\"\"Maximum likelihood loss\"\"\"\n",
        "  n, m = y.shape\n",
        "  y_n = np.where(y == 0, -1, 1)\n",
        "  linear_term = np.dot(w.T, X.T)\n",
        "  exponent_arg = np.multiply(-y_n.T, linear_term)\n",
        "  summand = np.log(1 + np.exp(exponent_arg))\n",
        "  loss = np.sum(summand)/n\n",
        "  return loss"
      ],
      "metadata": {
        "id": "26crwN0aWbea"
      },
      "execution_count": null,
      "outputs": []
    },
    {
      "cell_type": "code",
      "source": [
        "ml_loss(X_train, y_train, w)"
      ],
      "metadata": {
        "colab": {
          "base_uri": "https://localhost:8080/"
        },
        "id": "iAsaTYlehZnB",
        "outputId": "861a3733-f1e7-4cee-e3c0-090747a63b2f"
      },
      "execution_count": null,
      "outputs": [
        {
          "output_type": "execute_result",
          "data": {
            "text/plain": [
              "4.681234767095043"
            ]
          },
          "metadata": {},
          "execution_count": 58
        }
      ]
    },
    {
      "cell_type": "markdown",
      "source": [
        "#### Gradient descent"
      ],
      "metadata": {
        "id": "4LejnqFK3VDN"
      }
    },
    {
      "cell_type": "markdown",
      "source": [
        "Gradient descent finds the lowest loss function in a convex curve. It takes data, the target, and the weights as the argument."
      ],
      "metadata": {
        "id": "v7vTXXdcmMPE"
      }
    },
    {
      "cell_type": "code",
      "source": [
        "def grad_ml_loss(X, y, w):\n",
        "  n, m = y.shape\n",
        "  y_n = np.where(y == 0, -1, 1)\n",
        "  linear_term = np.dot(w.T, X.T)\n",
        "  sig_arg = sigmoid(np.multiply(-y_n.T, linear_term))\n",
        "  left = np.multiply(-1*y_n.T, X.T)\n",
        "  summand = left*sig_arg \n",
        "  grad = 1./n*np.sum(summand, axis=1)\n",
        "  return grad.T"
      ],
      "metadata": {
        "id": "iFH4jd7jiGM3"
      },
      "execution_count": null,
      "outputs": []
    },
    {
      "cell_type": "code",
      "source": [
        "grad_ml_loss(X_train, y_train, w)"
      ],
      "metadata": {
        "colab": {
          "base_uri": "https://localhost:8080/"
        },
        "id": "wZ1RtD6smR26",
        "outputId": "e4660a43-081a-4183-9fdf-580fad7dbddc"
      },
      "execution_count": null,
      "outputs": [
        {
          "output_type": "execute_result",
          "data": {
            "text/plain": [
              "array([ 1.84377087,  2.50125529, -0.10328361, -0.04602236,  0.25234536])"
            ]
          },
          "metadata": {},
          "execution_count": 61
        }
      ]
    },
    {
      "cell_type": "code",
      "source": [
        "def gradient_descent(X_train, y_train, lr=0.1, num_epochs=5000):\n",
        "    w = np.random.normal(0, 1.0, size=(5, 1)) #randomly initialized weight vector\n",
        "    for epoch in range(num_epochs):\n",
        "      grad_loss = grad_ml_loss(X_train, y_train, w)\n",
        "      w = w - lr * np.expand_dims(grad_loss, axis=1) \n",
        "      if epoch % 100 == 0:\n",
        "        loss = ml_loss(X_train, y_train, w)\n",
        "        print(f\"Working on epoch: {epoch}\\t Loss: {loss:.4} \\t Weights: {w.T.squeeze()}\", end=\"\\r\")\n",
        "    return w"
      ],
      "metadata": {
        "id": "lqJCtJ-x7hIA"
      },
      "execution_count": null,
      "outputs": []
    },
    {
      "cell_type": "code",
      "source": [
        "gradient_descent(X_train, y_train, lr=0.1, num_epochs=5000)"
      ],
      "metadata": {
        "colab": {
          "base_uri": "https://localhost:8080/"
        },
        "id": "MHW6mI8Nebdp",
        "outputId": "fd5ab65e-03ae-45c1-90e8-277d59aa9749"
      },
      "execution_count": null,
      "outputs": [
        {
          "output_type": "stream",
          "name": "stdout",
          "text": []
        },
        {
          "output_type": "execute_result",
          "data": {
            "text/plain": [
              "array([[-3.35300599],\n",
              "       [-1.90894792],\n",
              "       [-2.30214132],\n",
              "       [-0.16998033],\n",
              "       [ 3.43811793]])"
            ]
          },
          "metadata": {},
          "execution_count": 63
        }
      ]
    },
    {
      "cell_type": "markdown",
      "source": [
        "#### logistic regression (with L2 regression)"
      ],
      "metadata": {
        "id": "_wZXjjcX20_b"
      }
    },
    {
      "cell_type": "markdown",
      "source": [
        "Ridge regression adds “squared magnitude” of coefficient as penalty term to the loss function. Here we add this as mu.\n"
      ],
      "metadata": {
        "id": "J6nmGLYy0f12"
      }
    },
    {
      "cell_type": "code",
      "source": [
        "def gradient_descent_with_l2(X_train, y_train, lr=0.00000001, mu=0.05, num_epochs=500):\n",
        "    w = np.random.normal(0, 1.0, size=(5, 1))\n",
        "    for epoch in range(num_epochs):\n",
        "      grad_loss = grad_ml_loss(X_train, y_train, w)\n",
        "      w = w - lr * (np.expand_dims(grad_loss, axis=1) + mu*w)\n",
        "      loss = ml_loss(X_train, y_train, w)\n",
        "      if epoch % 100 == 0:\n",
        "        loss = ml_loss(X_train, y_train, w)\n",
        "        print(f\"Epoch: {epoch}\\t Loss: {loss:.4} \\t Weights: {w.T.squeeze()}\", end=\"\\r\")\n",
        "    return w"
      ],
      "metadata": {
        "id": "BUdhvd3B7h5q"
      },
      "execution_count": null,
      "outputs": []
    },
    {
      "cell_type": "markdown",
      "source": [
        "#### Cross entropy error measurement"
      ],
      "metadata": {
        "id": "LwMFW5bX2gC-"
      }
    },
    {
      "cell_type": "markdown",
      "source": [
        "An alternative approach would be the cross entropy loss function, below. "
      ],
      "metadata": {
        "id": "DeAqU81FtkcQ"
      }
    },
    {
      "cell_type": "code",
      "source": [
        "def ce_loss(y, y_hat):\n",
        "    \"\"\"Cross Entropy Loss\"\"\"\n",
        "    loss = -np.mean(y*(np.log(y_hat)) - (1-y)*np.log(1-y_hat))\n",
        "    return loss"
      ],
      "metadata": {
        "id": "kNV9rKpS7ie3"
      },
      "execution_count": null,
      "outputs": []
    },
    {
      "cell_type": "code",
      "source": [
        "w_best = gradient_descent(X_train, y_train, lr=0.1, num_epochs=5000)\n",
        "y_hat = log_res(w_best, X_train)"
      ],
      "metadata": {
        "colab": {
          "base_uri": "https://localhost:8080/"
        },
        "id": "tbqvnfBNr2g4",
        "outputId": "bfabc0ae-93b5-48b8-f207-33242c07c641"
      },
      "execution_count": null,
      "outputs": [
        {
          "output_type": "stream",
          "name": "stdout",
          "text": []
        }
      ]
    },
    {
      "cell_type": "code",
      "source": [
        "ce_loss(y_train, y_hat)"
      ],
      "metadata": {
        "colab": {
          "base_uri": "https://localhost:8080/"
        },
        "id": "Rp-AzHHw5m6i",
        "outputId": "0fb75969-aff5-4d79-9e4f-95c812b70828"
      },
      "execution_count": null,
      "outputs": [
        {
          "output_type": "execute_result",
          "data": {
            "text/plain": [
              "1.7363944444427646"
            ]
          },
          "metadata": {},
          "execution_count": 69
        }
      ]
    },
    {
      "cell_type": "markdown",
      "source": [
        "## 10-fold cross validation"
      ],
      "metadata": {
        "id": "_eQb9-BdLdkf"
      }
    },
    {
      "cell_type": "markdown",
      "source": [
        "#### Training\n"
      ],
      "metadata": {
        "id": "465EtS9S1BED"
      }
    },
    {
      "cell_type": "code",
      "source": [
        "losses_test = []\n",
        "losses_train = []\n",
        "for i in range(10):\n",
        "  m, n = X.shape\n",
        "  delta = m // 10\n",
        "  X_train = np.concatenate([X[:i*delta].values, X[(i+1)*delta:].values])\n",
        "  X_test = X[i*delta:(i+1)*delta].values\n",
        "  y_train = np.concatenate([y[:i*delta].values, y[(i+1)*delta:].values])\n",
        "  y_test = y[i*delta:(i+1)*delta].values\n",
        "  loss_train = ml_loss(X_train, y_train, w)\n",
        "  loss_test = ml_loss(X_test, y_test, w)\n",
        "  losses_test.append(loss_test)\n",
        "  losses_train.append(loss_train)"
      ],
      "metadata": {
        "id": "-2Eyyhi48kVQ"
      },
      "execution_count": null,
      "outputs": []
    },
    {
      "cell_type": "code",
      "source": [
        "losses_train"
      ],
      "metadata": {
        "colab": {
          "base_uri": "https://localhost:8080/"
        },
        "id": "7sUaYIDWFRMa",
        "outputId": "39e6e0d3-3132-48f3-d761-095fce915b14"
      },
      "execution_count": null,
      "outputs": [
        {
          "output_type": "execute_result",
          "data": {
            "text/plain": [
              "[4.6973946966097415,\n",
              " 4.656717130502254,\n",
              " 4.70565169677873,\n",
              " 4.701301798808141,\n",
              " 4.706053948887814,\n",
              " 4.7155802842896755,\n",
              " 4.7051313103238765,\n",
              " 4.7420747208100575,\n",
              " 4.722778216280751,\n",
              " 4.681234767095043]"
            ]
          },
          "metadata": {},
          "execution_count": 53
        }
      ]
    },
    {
      "cell_type": "markdown",
      "source": [
        "#### Testing\n"
      ],
      "metadata": {
        "id": "I-U0ho3X11UA"
      }
    },
    {
      "cell_type": "code",
      "source": [
        "losses_test"
      ],
      "metadata": {
        "id": "Nr6KJGow11UA",
        "colab": {
          "base_uri": "https://localhost:8080/"
        },
        "outputId": "e5787f00-4fe6-4b1c-fb41-92c80eead9ea"
      },
      "execution_count": null,
      "outputs": [
        {
          "output_type": "execute_result",
          "data": {
            "text/plain": [
              "[4.758050507016783,\n",
              " 5.124742435066031,\n",
              " 4.683616965347429,\n",
              " 4.722829549242876,\n",
              " 4.679990824072101,\n",
              " 4.594114734865547,\n",
              " 4.688308040323661,\n",
              " 4.355278026086913,\n",
              " 4.529228267646735,\n",
              " 4.903725784028836]"
            ]
          },
          "metadata": {},
          "execution_count": 72
        }
      ]
    },
    {
      "cell_type": "markdown",
      "source": [
        "### Plot and Explain"
      ],
      "metadata": {
        "id": "Taf-4K843GpG"
      }
    },
    {
      "cell_type": "markdown",
      "source": [
        "Plot the $E_{in}$ and $E_{val}$. Then explain your findings"
      ],
      "metadata": {
        "id": "lt2JtT0-3Qt7"
      }
    },
    {
      "cell_type": "code",
      "source": [
        "plt.hist(losses_train)"
      ],
      "metadata": {
        "colab": {
          "base_uri": "https://localhost:8080/",
          "height": 354
        },
        "id": "wCsaRH6cIVvJ",
        "outputId": "5b6a1a08-687c-4a6e-8f33-6d3d1855cac3"
      },
      "execution_count": null,
      "outputs": [
        {
          "output_type": "execute_result",
          "data": {
            "text/plain": [
              "(array([1., 0., 1., 0., 1., 4., 1., 1., 0., 1.]),\n",
              " array([4.65671713, 4.66525289, 4.67378865, 4.68232441, 4.69086017,\n",
              "        4.69939593, 4.70793168, 4.71646744, 4.7250032 , 4.73353896,\n",
              "        4.74207472]),\n",
              " <a list of 10 Patch objects>)"
            ]
          },
          "metadata": {},
          "execution_count": 70
        },
        {
          "output_type": "display_data",
          "data": {
            "text/plain": [
              "<Figure size 432x288 with 1 Axes>"
            ],
            "image/png": "[encoded data removed]"
          },
          "metadata": {
            "needs_background": "light"
          }
        }
      ]
    },
    {
      "cell_type": "code",
      "source": [
        "plt.hist(losses_test)"
      ],
      "metadata": {
        "id": "m-Fq6TZp3LBg",
        "colab": {
          "base_uri": "https://localhost:8080/",
          "height": 354
        },
        "outputId": "5dc6ee51-57dc-4ba1-8ee3-6f6f43da0eaf"
      },
      "execution_count": null,
      "outputs": [
        {
          "output_type": "execute_result",
          "data": {
            "text/plain": [
              "(array([1., 0., 1., 1., 4., 1., 0., 1., 0., 1.]),\n",
              " array([4.35527803, 4.43222447, 4.50917091, 4.58611735, 4.66306379,\n",
              "        4.74001023, 4.81695667, 4.89390311, 4.97084955, 5.04779599,\n",
              "        5.12474244]),\n",
              " <a list of 10 Patch objects>)"
            ]
          },
          "metadata": {},
          "execution_count": 71
        },
        {
          "output_type": "display_data",
          "data": {
            "text/plain": [
              "<Figure size 432x288 with 1 Axes>"
            ],
            "image/png": "[encoded data removed]"
          },
          "metadata": {
            "needs_background": "light"
          }
        }
      ]
    },
    {
      "cell_type": "markdown",
      "source": [
        "What is your analysis? Put them here"
      ],
      "metadata": {
        "id": "8WNOCtYl_yKy"
      }
    },
    {
      "cell_type": "markdown",
      "source": [
        "Losses for train and test converge around 4.7. In the test set one cycle returned an error over 5, which was not the case in the training data, but as the rest were all close in range this doesn't seem to be an issue. "
      ],
      "metadata": {
        "id": "Ih7IQwHI7Lrt"
      }
    },
    {
      "cell_type": "markdown",
      "source": [
        "## Conclusion"
      ],
      "metadata": {
        "id": "qAlvHORC5QMq"
      }
    },
    {
      "cell_type": "markdown",
      "source": [
        "This data set studies bank forgeries, by recording several variables describing the characteristics of bank notes, including Variance, Skewness, Curtosis, and Entropy, and then assigning each bank note a class of 1 or 0, representing a forgery or not a forgery. The goal is to create a logistic regression that will be able to predict whether a future bank note is a forgery or not, by collecting these features and measuring how they compare to the patterns in the dataset. To do this, we create test and training sets of th data. The test set represents 20 percent of th data and th training se trepresents 80 percent of the data. We also separate the data into features and target. \n",
        "\n",
        "Using the sigmoid function, we are able to squish imputs to a number between 1 and 0 on a log scale, using e. This will allow us to make categorical determinations, classifying data as a 1 or 0. \n",
        "\n",
        "The logistic regression produces a hypothesis, by taking the dot product of a set of weights and the data as inputs to the sigmoid function. Improving on this we introduce the maximum likelihood function and gradient descent. These help us to identify the lowest loss function. Adding a coefficient mu as the L2, or ridge regression, stabilizes the results. An alternative approach using cross entropy measurement is provided. \n",
        "\n",
        "In order to ensure that the particular sampe of the data that we are using for training and testing is not skewing the results, we train and test using 10 fold cross validation. This cycles through the data, selecting a different 1/10th of th data for its test set and appending the rest for its training set each time. We output ten counts of loss for each cycle of cross validation. \n",
        "\n",
        "Plotting these in a histogram, we see that most errors are around 4.7 for both training and testing, showing that there is not a meaningful difference between how th model is operating on training data and test data."
      ],
      "metadata": {
        "id": "uRyM2Q-25UN8"
      }
    },
    {
      "cell_type": "code",
      "source": [],
      "metadata": {
        "id": "2uKIo7qy0WQ7"
      },
      "execution_count": null,
      "outputs": []
    }
  ]
}